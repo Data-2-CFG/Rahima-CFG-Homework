{
 "cells": [
  {
   "cell_type": "markdown",
   "metadata": {},
   "source": [
    "## 1. PANDAS & NUMPY (25 points)\n",
    "\n",
    "- complete 10 questions below\n",
    "- for Pandas exercise, please use provided __sales_reps_data.csv__ file\n",
    "- it would be a good idea to familiarise yourself with the .csv file first. \n"
   ]
  },
  {
   "cell_type": "code",
   "execution_count": 2,
   "metadata": {},
   "outputs": [],
   "source": [
    "# 1. load sales_reps_data.csv file with Pandas as dataframe\n",
    "import pandas as pd\n",
    "df = pd.read_csv('sales_reps_data.csv')"
   ]
  },
  {
   "cell_type": "code",
   "execution_count": 5,
   "metadata": {},
   "outputs": [
    {
     "data": {
      "text/html": [
       "<div>\n",
       "<style scoped>\n",
       "    .dataframe tbody tr th:only-of-type {\n",
       "        vertical-align: middle;\n",
       "    }\n",
       "\n",
       "    .dataframe tbody tr th {\n",
       "        vertical-align: top;\n",
       "    }\n",
       "\n",
       "    .dataframe thead th {\n",
       "        text-align: right;\n",
       "    }\n",
       "</style>\n",
       "<table border=\"1\" class=\"dataframe\">\n",
       "  <thead>\n",
       "    <tr style=\"text-align: right;\">\n",
       "      <th></th>\n",
       "      <th>date</th>\n",
       "      <th>region</th>\n",
       "      <th>sales_rep</th>\n",
       "      <th>item</th>\n",
       "      <th>qty</th>\n",
       "      <th>unit_price</th>\n",
       "      <th>total</th>\n",
       "    </tr>\n",
       "  </thead>\n",
       "  <tbody>\n",
       "    <tr>\n",
       "      <th>0</th>\n",
       "      <td>01/06/2019</td>\n",
       "      <td>East</td>\n",
       "      <td>Jones</td>\n",
       "      <td>Pencil</td>\n",
       "      <td>95</td>\n",
       "      <td>1.99</td>\n",
       "      <td>189.05</td>\n",
       "    </tr>\n",
       "    <tr>\n",
       "      <th>1</th>\n",
       "      <td>1/23/19</td>\n",
       "      <td>Central</td>\n",
       "      <td>Kivell</td>\n",
       "      <td>Binder</td>\n",
       "      <td>50</td>\n",
       "      <td>19.99</td>\n",
       "      <td>999.50</td>\n",
       "    </tr>\n",
       "    <tr>\n",
       "      <th>2</th>\n",
       "      <td>02/09/2019</td>\n",
       "      <td>Central</td>\n",
       "      <td>Jardine</td>\n",
       "      <td>Pencil</td>\n",
       "      <td>36</td>\n",
       "      <td>4.99</td>\n",
       "      <td>179.64</td>\n",
       "    </tr>\n",
       "    <tr>\n",
       "      <th>3</th>\n",
       "      <td>2/26/19</td>\n",
       "      <td>Central</td>\n",
       "      <td>Gill</td>\n",
       "      <td>Pen</td>\n",
       "      <td>27</td>\n",
       "      <td>19.99</td>\n",
       "      <td>539.73</td>\n",
       "    </tr>\n",
       "    <tr>\n",
       "      <th>4</th>\n",
       "      <td>3/15/19</td>\n",
       "      <td>West</td>\n",
       "      <td>Sorvino</td>\n",
       "      <td>Pencil</td>\n",
       "      <td>56</td>\n",
       "      <td>2.99</td>\n",
       "      <td>167.44</td>\n",
       "    </tr>\n",
       "  </tbody>\n",
       "</table>\n",
       "</div>"
      ],
      "text/plain": [
       "         date   region sales_rep    item  qty  unit_price   total\n",
       "0  01/06/2019     East     Jones  Pencil   95        1.99  189.05\n",
       "1     1/23/19  Central    Kivell  Binder   50       19.99  999.50\n",
       "2  02/09/2019  Central   Jardine  Pencil   36        4.99  179.64\n",
       "3     2/26/19  Central      Gill     Pen   27       19.99  539.73\n",
       "4     3/15/19     West   Sorvino  Pencil   56        2.99  167.44"
      ]
     },
     "execution_count": 5,
     "metadata": {},
     "output_type": "execute_result"
    }
   ],
   "source": [
    "# 2. print the first and last five rows\n",
    "df.head(5)\n",
    "df.tail(5)"
   ]
  },
  {
   "cell_type": "code",
   "execution_count": 6,
   "metadata": {},
   "outputs": [
    {
     "data": {
      "text/plain": [
       "Jones       8\n",
       "Jardine     5\n",
       "Gill        5\n",
       "Kivell      4\n",
       "Sorvino     4\n",
       "Andrews     4\n",
       "Morgan      3\n",
       "Parent      3\n",
       "Smith       3\n",
       "Thompson    2\n",
       "Howard      2\n",
       "Name: sales_rep, dtype: int64"
      ]
     },
     "execution_count": 6,
     "metadata": {},
     "output_type": "execute_result"
    }
   ],
   "source": [
    "#3. Find names of the sales reps who sold the most items (qty) and what are those items\n",
    "df['sales_rep'].value_counts()"
   ]
  },
  {
   "cell_type": "code",
   "execution_count": 71,
   "metadata": {},
   "outputs": [
    {
     "data": {
      "text/plain": [
       "0      Pencil\n",
       "5      Binder\n",
       "9      Binder\n",
       "13     Pencil\n",
       "15    Pen Set\n",
       "17        Pen\n",
       "24     Binder\n",
       "32    Pen Set\n",
       "Name: item, dtype: object"
      ]
     },
     "execution_count": 71,
     "metadata": {},
     "output_type": "execute_result"
    }
   ],
   "source": [
    "rep = df.groupby('sales_rep')\n",
    "jones = rep.get_group('Jones')\n",
    "items = jones['item']\n",
    "items"
   ]
  },
  {
   "cell_type": "code",
   "execution_count": 56,
   "metadata": {},
   "outputs": [
    {
     "data": {
      "text/html": [
       "<div>\n",
       "<style scoped>\n",
       "    .dataframe tbody tr th:only-of-type {\n",
       "        vertical-align: middle;\n",
       "    }\n",
       "\n",
       "    .dataframe tbody tr th {\n",
       "        vertical-align: top;\n",
       "    }\n",
       "\n",
       "    .dataframe thead th {\n",
       "        text-align: right;\n",
       "    }\n",
       "</style>\n",
       "<table border=\"1\" class=\"dataframe\">\n",
       "  <thead>\n",
       "    <tr style=\"text-align: right;\">\n",
       "      <th></th>\n",
       "      <th>date</th>\n",
       "      <th>region</th>\n",
       "      <th>sales_rep</th>\n",
       "      <th>item</th>\n",
       "      <th>qty</th>\n",
       "      <th>unit_price</th>\n",
       "      <th>total</th>\n",
       "    </tr>\n",
       "  </thead>\n",
       "  <tbody>\n",
       "    <tr>\n",
       "      <th>0</th>\n",
       "      <td>01/06/2019</td>\n",
       "      <td>East</td>\n",
       "      <td>Jones</td>\n",
       "      <td>Pencil</td>\n",
       "      <td>95</td>\n",
       "      <td>1.99</td>\n",
       "      <td>189.05</td>\n",
       "    </tr>\n",
       "    <tr>\n",
       "      <th>5</th>\n",
       "      <td>04/01/2019</td>\n",
       "      <td>East</td>\n",
       "      <td>Jones</td>\n",
       "      <td>Binder</td>\n",
       "      <td>60</td>\n",
       "      <td>4.99</td>\n",
       "      <td>299.40</td>\n",
       "    </tr>\n",
       "    <tr>\n",
       "      <th>9</th>\n",
       "      <td>06/08/2019</td>\n",
       "      <td>East</td>\n",
       "      <td>Jones</td>\n",
       "      <td>Binder</td>\n",
       "      <td>60</td>\n",
       "      <td>8.99</td>\n",
       "      <td>539.40</td>\n",
       "    </tr>\n",
       "    <tr>\n",
       "      <th>13</th>\n",
       "      <td>8/15/19</td>\n",
       "      <td>East</td>\n",
       "      <td>Jones</td>\n",
       "      <td>Pencil</td>\n",
       "      <td>35</td>\n",
       "      <td>4.99</td>\n",
       "      <td>174.65</td>\n",
       "    </tr>\n",
       "    <tr>\n",
       "      <th>15</th>\n",
       "      <td>9/18/19</td>\n",
       "      <td>East</td>\n",
       "      <td>Jones</td>\n",
       "      <td>Pen Set</td>\n",
       "      <td>16</td>\n",
       "      <td>15.99</td>\n",
       "      <td>255.84</td>\n",
       "    </tr>\n",
       "    <tr>\n",
       "      <th>17</th>\n",
       "      <td>10/22/19</td>\n",
       "      <td>East</td>\n",
       "      <td>Jones</td>\n",
       "      <td>Pen</td>\n",
       "      <td>64</td>\n",
       "      <td>8.99</td>\n",
       "      <td>575.36</td>\n",
       "    </tr>\n",
       "    <tr>\n",
       "      <th>24</th>\n",
       "      <td>2/18/20</td>\n",
       "      <td>East</td>\n",
       "      <td>Jones</td>\n",
       "      <td>Binder</td>\n",
       "      <td>4</td>\n",
       "      <td>4.99</td>\n",
       "      <td>19.96</td>\n",
       "    </tr>\n",
       "    <tr>\n",
       "      <th>32</th>\n",
       "      <td>07/04/2020</td>\n",
       "      <td>East</td>\n",
       "      <td>Jones</td>\n",
       "      <td>Pen Set</td>\n",
       "      <td>62</td>\n",
       "      <td>4.99</td>\n",
       "      <td>309.38</td>\n",
       "    </tr>\n",
       "  </tbody>\n",
       "</table>\n",
       "</div>"
      ],
      "text/plain": [
       "          date region sales_rep     item  qty  unit_price   total\n",
       "0   01/06/2019   East     Jones   Pencil   95        1.99  189.05\n",
       "5   04/01/2019   East     Jones   Binder   60        4.99  299.40\n",
       "9   06/08/2019   East     Jones   Binder   60        8.99  539.40\n",
       "13     8/15/19   East     Jones   Pencil   35        4.99  174.65\n",
       "15     9/18/19   East     Jones  Pen Set   16       15.99  255.84\n",
       "17    10/22/19   East     Jones      Pen   64        8.99  575.36\n",
       "24     2/18/20   East     Jones   Binder    4        4.99   19.96\n",
       "32  07/04/2020   East     Jones  Pen Set   62        4.99  309.38"
      ]
     },
     "execution_count": 56,
     "metadata": {},
     "output_type": "execute_result"
    }
   ],
   "source": [
    "# 4. Print details(records) for sales rep called 'Jones'\n",
    "rep = df.groupby('sales_rep')\n",
    "jones = rep.get_group('Jones')\n",
    "jones\n"
   ]
  },
  {
   "cell_type": "code",
   "execution_count": 27,
   "metadata": {},
   "outputs": [
    {
     "data": {
      "text/plain": [
       "item\n",
       "Binder      19.99\n",
       "Desk       275.00\n",
       "Pen         19.99\n",
       "Pen Set     23.95\n",
       "Pencil       4.99\n",
       "Name: unit_price, dtype: float64"
      ]
     },
     "execution_count": 27,
     "metadata": {},
     "output_type": "execute_result"
    }
   ],
   "source": [
    "# 5. Get each item's highest price\n",
    "item = df.groupby('item')\n",
    "price = item['unit_price'].max()\n",
    "price"
   ]
  },
  {
   "cell_type": "code",
   "execution_count": 32,
   "metadata": {},
   "outputs": [
    {
     "data": {
      "text/plain": [
       "item\n",
       "Binder      11.524000\n",
       "Desk       175.000000\n",
       "Pen         11.190000\n",
       "Pen Set     11.912857\n",
       "Pencil       2.774615\n",
       "Name: unit_price, dtype: float64"
      ]
     },
     "execution_count": 32,
     "metadata": {},
     "output_type": "execute_result"
    }
   ],
   "source": [
    "# 6. Find the average price of each unit\n",
    "#not sure what this question means so I have provided\n",
    "#average price for each item here\n",
    "item = df.groupby('item')\n",
    "avg = item['unit_price'].mean()\n",
    "avg"
   ]
  },
  {
   "cell_type": "code",
   "execution_count": 30,
   "metadata": {},
   "outputs": [
    {
     "data": {
      "text/plain": [
       "20.308604651162792"
      ]
     },
     "execution_count": 30,
     "metadata": {},
     "output_type": "execute_result"
    }
   ],
   "source": [
    "#and average price per unit amongst all items\n",
    "avg = df['unit_price'].mean()\n",
    "avg"
   ]
  },
  {
   "cell_type": "code",
   "execution_count": 34,
   "metadata": {},
   "outputs": [
    {
     "data": {
      "text/html": [
       "<div>\n",
       "<style scoped>\n",
       "    .dataframe tbody tr th:only-of-type {\n",
       "        vertical-align: middle;\n",
       "    }\n",
       "\n",
       "    .dataframe tbody tr th {\n",
       "        vertical-align: top;\n",
       "    }\n",
       "\n",
       "    .dataframe thead th {\n",
       "        text-align: right;\n",
       "    }\n",
       "</style>\n",
       "<table border=\"1\" class=\"dataframe\">\n",
       "  <thead>\n",
       "    <tr style=\"text-align: right;\">\n",
       "      <th></th>\n",
       "      <th>date</th>\n",
       "      <th>region</th>\n",
       "      <th>sales_rep</th>\n",
       "      <th>item</th>\n",
       "      <th>qty</th>\n",
       "      <th>unit_price</th>\n",
       "      <th>total</th>\n",
       "    </tr>\n",
       "  </thead>\n",
       "  <tbody>\n",
       "    <tr>\n",
       "      <th>36</th>\n",
       "      <td>09/10/2020</td>\n",
       "      <td>Central</td>\n",
       "      <td>Gill</td>\n",
       "      <td>Pencil</td>\n",
       "      <td>7</td>\n",
       "      <td>1.29</td>\n",
       "      <td>9.03</td>\n",
       "    </tr>\n",
       "    <tr>\n",
       "      <th>39</th>\n",
       "      <td>10/31/20</td>\n",
       "      <td>Central</td>\n",
       "      <td>Andrews</td>\n",
       "      <td>Pencil</td>\n",
       "      <td>14</td>\n",
       "      <td>1.29</td>\n",
       "      <td>18.06</td>\n",
       "    </tr>\n",
       "    <tr>\n",
       "      <th>40</th>\n",
       "      <td>11/17/20</td>\n",
       "      <td>Central</td>\n",
       "      <td>Jardine</td>\n",
       "      <td>Binder</td>\n",
       "      <td>11</td>\n",
       "      <td>4.99</td>\n",
       "      <td>54.89</td>\n",
       "    </tr>\n",
       "    <tr>\n",
       "      <th>29</th>\n",
       "      <td>5/14/20</td>\n",
       "      <td>Central</td>\n",
       "      <td>Gill</td>\n",
       "      <td>Pencil</td>\n",
       "      <td>53</td>\n",
       "      <td>1.29</td>\n",
       "      <td>68.37</td>\n",
       "    </tr>\n",
       "    <tr>\n",
       "      <th>20</th>\n",
       "      <td>12/12/2019</td>\n",
       "      <td>Central</td>\n",
       "      <td>Smith</td>\n",
       "      <td>Pencil</td>\n",
       "      <td>67</td>\n",
       "      <td>1.29</td>\n",
       "      <td>86.43</td>\n",
       "    </tr>\n",
       "    <tr>\n",
       "      <th>27</th>\n",
       "      <td>04/10/2020</td>\n",
       "      <td>Central</td>\n",
       "      <td>Andrews</td>\n",
       "      <td>Pencil</td>\n",
       "      <td>66</td>\n",
       "      <td>1.99</td>\n",
       "      <td>131.34</td>\n",
       "    </tr>\n",
       "    <tr>\n",
       "      <th>42</th>\n",
       "      <td>12/21/20</td>\n",
       "      <td>Central</td>\n",
       "      <td>Andrews</td>\n",
       "      <td>Binder</td>\n",
       "      <td>28</td>\n",
       "      <td>4.99</td>\n",
       "      <td>139.72</td>\n",
       "    </tr>\n",
       "    <tr>\n",
       "      <th>6</th>\n",
       "      <td>4/18/19</td>\n",
       "      <td>Central</td>\n",
       "      <td>Andrews</td>\n",
       "      <td>Pencil</td>\n",
       "      <td>75</td>\n",
       "      <td>1.99</td>\n",
       "      <td>149.25</td>\n",
       "    </tr>\n",
       "    <tr>\n",
       "      <th>2</th>\n",
       "      <td>02/09/2019</td>\n",
       "      <td>Central</td>\n",
       "      <td>Jardine</td>\n",
       "      <td>Pencil</td>\n",
       "      <td>36</td>\n",
       "      <td>4.99</td>\n",
       "      <td>179.64</td>\n",
       "    </tr>\n",
       "    <tr>\n",
       "      <th>26</th>\n",
       "      <td>3/24/20</td>\n",
       "      <td>Central</td>\n",
       "      <td>Jardine</td>\n",
       "      <td>Pen Set</td>\n",
       "      <td>50</td>\n",
       "      <td>4.99</td>\n",
       "      <td>249.50</td>\n",
       "    </tr>\n",
       "    <tr>\n",
       "      <th>14</th>\n",
       "      <td>09/01/2019</td>\n",
       "      <td>Central</td>\n",
       "      <td>Smith</td>\n",
       "      <td>Desk</td>\n",
       "      <td>2</td>\n",
       "      <td>125.00</td>\n",
       "      <td>250.00</td>\n",
       "    </tr>\n",
       "    <tr>\n",
       "      <th>16</th>\n",
       "      <td>10/05/2019</td>\n",
       "      <td>Central</td>\n",
       "      <td>Morgan</td>\n",
       "      <td>Binder</td>\n",
       "      <td>28</td>\n",
       "      <td>8.99</td>\n",
       "      <td>251.72</td>\n",
       "    </tr>\n",
       "    <tr>\n",
       "      <th>22</th>\n",
       "      <td>1/15/20</td>\n",
       "      <td>Central</td>\n",
       "      <td>Gill</td>\n",
       "      <td>Binder</td>\n",
       "      <td>46</td>\n",
       "      <td>8.99</td>\n",
       "      <td>413.54</td>\n",
       "    </tr>\n",
       "    <tr>\n",
       "      <th>7</th>\n",
       "      <td>05/05/2019</td>\n",
       "      <td>Central</td>\n",
       "      <td>Jardine</td>\n",
       "      <td>Pencil</td>\n",
       "      <td>90</td>\n",
       "      <td>4.99</td>\n",
       "      <td>449.10</td>\n",
       "    </tr>\n",
       "    <tr>\n",
       "      <th>10</th>\n",
       "      <td>6/25/19</td>\n",
       "      <td>Central</td>\n",
       "      <td>Morgan</td>\n",
       "      <td>Pencil</td>\n",
       "      <td>90</td>\n",
       "      <td>4.99</td>\n",
       "      <td>449.10</td>\n",
       "    </tr>\n",
       "    <tr>\n",
       "      <th>19</th>\n",
       "      <td>11/25/19</td>\n",
       "      <td>Central</td>\n",
       "      <td>Kivell</td>\n",
       "      <td>Pen Set</td>\n",
       "      <td>96</td>\n",
       "      <td>4.99</td>\n",
       "      <td>479.04</td>\n",
       "    </tr>\n",
       "    <tr>\n",
       "      <th>3</th>\n",
       "      <td>2/26/19</td>\n",
       "      <td>Central</td>\n",
       "      <td>Gill</td>\n",
       "      <td>Pen</td>\n",
       "      <td>27</td>\n",
       "      <td>19.99</td>\n",
       "      <td>539.73</td>\n",
       "    </tr>\n",
       "    <tr>\n",
       "      <th>31</th>\n",
       "      <td>6/17/20</td>\n",
       "      <td>Central</td>\n",
       "      <td>Kivell</td>\n",
       "      <td>Desk</td>\n",
       "      <td>5</td>\n",
       "      <td>125.00</td>\n",
       "      <td>625.00</td>\n",
       "    </tr>\n",
       "    <tr>\n",
       "      <th>33</th>\n",
       "      <td>7/21/20</td>\n",
       "      <td>Central</td>\n",
       "      <td>Morgan</td>\n",
       "      <td>Pen Set</td>\n",
       "      <td>55</td>\n",
       "      <td>12.49</td>\n",
       "      <td>686.95</td>\n",
       "    </tr>\n",
       "    <tr>\n",
       "      <th>30</th>\n",
       "      <td>5/31/20</td>\n",
       "      <td>Central</td>\n",
       "      <td>Gill</td>\n",
       "      <td>Binder</td>\n",
       "      <td>80</td>\n",
       "      <td>8.99</td>\n",
       "      <td>719.20</td>\n",
       "    </tr>\n",
       "  </tbody>\n",
       "</table>\n",
       "</div>"
      ],
      "text/plain": [
       "          date   region sales_rep     item  qty  unit_price   total\n",
       "36  09/10/2020  Central      Gill   Pencil    7        1.29    9.03\n",
       "39    10/31/20  Central   Andrews   Pencil   14        1.29   18.06\n",
       "40    11/17/20  Central   Jardine   Binder   11        4.99   54.89\n",
       "29     5/14/20  Central      Gill   Pencil   53        1.29   68.37\n",
       "20  12/12/2019  Central     Smith   Pencil   67        1.29   86.43\n",
       "27  04/10/2020  Central   Andrews   Pencil   66        1.99  131.34\n",
       "42    12/21/20  Central   Andrews   Binder   28        4.99  139.72\n",
       "6      4/18/19  Central   Andrews   Pencil   75        1.99  149.25\n",
       "2   02/09/2019  Central   Jardine   Pencil   36        4.99  179.64\n",
       "26     3/24/20  Central   Jardine  Pen Set   50        4.99  249.50\n",
       "14  09/01/2019  Central     Smith     Desk    2      125.00  250.00\n",
       "16  10/05/2019  Central    Morgan   Binder   28        8.99  251.72\n",
       "22     1/15/20  Central      Gill   Binder   46        8.99  413.54\n",
       "7   05/05/2019  Central   Jardine   Pencil   90        4.99  449.10\n",
       "10     6/25/19  Central    Morgan   Pencil   90        4.99  449.10\n",
       "19    11/25/19  Central    Kivell  Pen Set   96        4.99  479.04\n",
       "3      2/26/19  Central      Gill      Pen   27       19.99  539.73\n",
       "31     6/17/20  Central    Kivell     Desk    5      125.00  625.00\n",
       "33     7/21/20  Central    Morgan  Pen Set   55       12.49  686.95\n",
       "30     5/31/20  Central      Gill   Binder   80        8.99  719.20"
      ]
     },
     "execution_count": 34,
     "metadata": {},
     "output_type": "execute_result"
    }
   ],
   "source": [
    "# 7. Sort all sales records by 'region' and 'total' columns\n",
    "sales = df.sort_values(by=['region', 'total'])\n",
    "sales.head(20)"
   ]
  },
  {
   "cell_type": "code",
   "execution_count": 38,
   "metadata": {},
   "outputs": [
    {
     "data": {
      "text/plain": [
       "array([[200, 220, 240],\n",
       "       [260, 280, 300],\n",
       "       [320, 340, 360],\n",
       "       [380, 400, 420]])"
      ]
     },
     "execution_count": 38,
     "metadata": {},
     "output_type": "execute_result"
    }
   ],
   "source": [
    "# 8.  Using NumPy create a 4X3 integer array from a range between 200 to 440  \n",
    "# such that the difference between each element is 20\n",
    "import numpy as np\n",
    "array = np.arange(200, 440, 20)\n",
    "array = array.reshape(4,3)\n",
    "array\n"
   ]
  },
  {
   "cell_type": "code",
   "execution_count": 41,
   "metadata": {},
   "outputs": [
    {
     "data": {
      "text/plain": [
       "array([  0,  20,  40,  60,  80, 100, 120, 140, 160, 180, 200])"
      ]
     },
     "execution_count": 41,
     "metadata": {},
     "output_type": "execute_result"
    }
   ],
   "source": [
    "# 9. Create a new array like --> array([  0,  10,  20,  30,  40,  50,  60,  70,  80,  90, 100])\n",
    "# then multiply every element in the array by 2.\n",
    "array = np.arange(0, 110, 10)\n",
    "m_array = array * 2\n",
    "m_array"
   ]
  },
  {
   "cell_type": "code",
   "execution_count": 43,
   "metadata": {},
   "outputs": [
    {
     "data": {
      "text/plain": [
       "array([ 2,  3,  4,  5,  8, 11, 14, 15])"
      ]
     },
     "execution_count": 43,
     "metadata": {},
     "output_type": "execute_result"
    }
   ],
   "source": [
    "# 10. Find the unique elements in an array [5,5,11,11,2,3,4,8,14,14,15,5]\n",
    "array = np.array([5,5,11,11,2,3,4,8,14,14,15,5])\n",
    "unique = np.unique(array)\n",
    "unique"
   ]
  },
  {
   "cell_type": "markdown",
   "metadata": {},
   "source": [
    "## 2. VISUALIZATION MATPLOTLIB (25 points / 15 points)\n",
    "\n",
    "\n",
    "#### 25 points\n",
    "- use already familiar __sales_reps_data.csv__ file \n",
    "- you need to process your data using grouby manupilation to prepare it for plotting (follow prompts below).\n",
    "- you can see how the data should be shaped by checking __sales_resp_data_aggregated.csv__\n",
    "- build a Pie Chart as described below. \n",
    "\n",
    "#### 15 points\n",
    "- if you are not able to perform groupby operations to prepare data for plotting, then use __sales_resp_data_aggregated.csv__ file.\n",
    "- build a Pie Chart as described below. \n"
   ]
  },
  {
   "cell_type": "code",
   "execution_count": 58,
   "metadata": {},
   "outputs": [
    {
     "data": {
      "text/html": [
       "<div>\n",
       "<style scoped>\n",
       "    .dataframe tbody tr th:only-of-type {\n",
       "        vertical-align: middle;\n",
       "    }\n",
       "\n",
       "    .dataframe tbody tr th {\n",
       "        vertical-align: top;\n",
       "    }\n",
       "\n",
       "    .dataframe thead th {\n",
       "        text-align: right;\n",
       "    }\n",
       "</style>\n",
       "<table border=\"1\" class=\"dataframe\">\n",
       "  <thead>\n",
       "    <tr style=\"text-align: right;\">\n",
       "      <th></th>\n",
       "      <th>sales_rep</th>\n",
       "      <th>total_amount</th>\n",
       "    </tr>\n",
       "  </thead>\n",
       "  <tbody>\n",
       "    <tr>\n",
       "      <th>0</th>\n",
       "      <td>Andrews</td>\n",
       "      <td>438.37</td>\n",
       "    </tr>\n",
       "    <tr>\n",
       "      <th>1</th>\n",
       "      <td>Gill</td>\n",
       "      <td>1749.87</td>\n",
       "    </tr>\n",
       "    <tr>\n",
       "      <th>2</th>\n",
       "      <td>Howard</td>\n",
       "      <td>536.75</td>\n",
       "    </tr>\n",
       "    <tr>\n",
       "      <th>3</th>\n",
       "      <td>Jardine</td>\n",
       "      <td>2812.19</td>\n",
       "    </tr>\n",
       "    <tr>\n",
       "      <th>4</th>\n",
       "      <td>Jones</td>\n",
       "      <td>2363.04</td>\n",
       "    </tr>\n",
       "    <tr>\n",
       "      <th>5</th>\n",
       "      <td>Kivell</td>\n",
       "      <td>3109.44</td>\n",
       "    </tr>\n",
       "    <tr>\n",
       "      <th>6</th>\n",
       "      <td>Morgan</td>\n",
       "      <td>1387.77</td>\n",
       "    </tr>\n",
       "    <tr>\n",
       "      <th>7</th>\n",
       "      <td>Parent</td>\n",
       "      <td>3102.30</td>\n",
       "    </tr>\n",
       "    <tr>\n",
       "      <th>8</th>\n",
       "      <td>Smith</td>\n",
       "      <td>1641.43</td>\n",
       "    </tr>\n",
       "    <tr>\n",
       "      <th>9</th>\n",
       "      <td>Sorvino</td>\n",
       "      <td>1283.61</td>\n",
       "    </tr>\n",
       "    <tr>\n",
       "      <th>10</th>\n",
       "      <td>Thompson</td>\n",
       "      <td>1203.11</td>\n",
       "    </tr>\n",
       "  </tbody>\n",
       "</table>\n",
       "</div>"
      ],
      "text/plain": [
       "   sales_rep  total_amount\n",
       "0    Andrews        438.37\n",
       "1       Gill       1749.87\n",
       "2     Howard        536.75\n",
       "3    Jardine       2812.19\n",
       "4      Jones       2363.04\n",
       "5     Kivell       3109.44\n",
       "6     Morgan       1387.77\n",
       "7     Parent       3102.30\n",
       "8      Smith       1641.43\n",
       "9    Sorvino       1283.61\n",
       "10  Thompson       1203.11"
      ]
     },
     "execution_count": 58,
     "metadata": {},
     "output_type": "execute_result"
    }
   ],
   "source": [
    "# 1. load  sales_reps_data.csv file to a dataframe\n",
    "df = pd.read_csv('sales_reps_data.csv')\n",
    "\n",
    "\n",
    "# 2. Prepare a new subset from the original data, aggregating sales records by sales representative and summing up\n",
    "# their total amount of sales (check sales_resp_data_aggregated.csv file to see what needs to be achieved)\n",
    "\n",
    "\"\"\"\n",
    "HINT: How to rename a column? \n",
    "\n",
    " - sometimes when you group by column A and sum up colum B values, you lose the name of column B\n",
    " - below is the example of how to name the column B after group by\n",
    " - it is the equivalent of SQL: SELECT columnA, sum(columnB) as 'Total'\n",
    "\n",
    "Example:\n",
    "  new_df = <your groupby and sum code goes here>.reset_index(name ='total_amount')\n",
    "\n",
    "\"\"\"\n",
    "reps = df.groupby('sales_rep')\n",
    "total = reps['total'].sum()\n",
    "new_df= total.reset_index(name ='total_amount')\n",
    "new_df\n",
    "\n",
    "\n"
   ]
  },
  {
   "cell_type": "code",
   "execution_count": 69,
   "metadata": {},
   "outputs": [
    {
     "data": {
      "text/plain": [
       "Text(0.5, 1.0, 'Total sales by each rep')"
      ]
     },
     "execution_count": 69,
     "metadata": {},
     "output_type": "execute_result"
    },
    {
     "data": {
      "image/png": "[encoded data removed]",
      "text/plain": [
       "<Figure size 432x288 with 1 Axes>"
      ]
     },
     "metadata": {},
     "output_type": "display_data"
    }
   ],
   "source": [
    "# 3. Using matplotlib create a Pie plot to show proportion of sales contribution to the total sales by each sales rep. \n",
    "import matplotlib.pyplot as plt\n",
    "\n",
    "\n",
    "\n",
    "slices = new_df['total_amount']\n",
    "rep = new_df['sales_rep']\n",
    "\n",
    "cols=['yellow','lightskyblue','royalblue','mediumpurple', 'salmon', 'pink', 'palegreen', 'seagreen', 'darkorange', 'orangered', 'hotpink']\n",
    "\n",
    "\n",
    "plt.pie(\n",
    "        slices,\n",
    "        labels= rep,\n",
    "        colors= cols,\n",
    "        startangle =90,\n",
    "        shadow = True,\n",
    "        explode=(0.1, 0.1, 0.1,0.1, 0.1, 0.1,0.1, 0.1, 0.1,0.1, 0.1),\n",
    "        autopct='%1.1f%%'\n",
    ")\n",
    "plt.title('Total sales by each rep')\n"
   ]
  },
  {
   "cell_type": "markdown",
   "metadata": {},
   "source": [
    "## 3. MACHINE LEARNING QUESTIONS (25 points)\n",
    "\n",
    "- this is purely theoretical task, NO CODING required\n",
    "- answer 5 questions below using Markdown cells to write your answers\n",
    "- note that you only need to provide brief answers to each question in your own words and examples where applicable. \n",
    "\n"
   ]
  },
  {
   "cell_type": "markdown",
   "metadata": {},
   "source": [
    "\n",
    "### Q1: What is Machine Leanring?\n",
    "\n",
    "\n",
    "### Q2: What are the key principles of 'Supervised' Machine learning?\n",
    "\n",
    "\n",
    "### Q3: With regards to Machine Learning Model Fitting, what do we mean my Underfitting and Overfitting?\n",
    "\n",
    "\n",
    "### Q4: Explain how do we ususally split data in preparation for the Machine Learning process?\n",
    "\n",
    "\n",
    "### Q5: What is SciKit?\n"
   ]
  },
  {
   "cell_type": "code",
   "execution_count": null,
   "metadata": {},
   "outputs": [],
   "source": [
    "#Q1\n",
    "'''\n",
    "Machine Learning is a form of AI which is used to make preeictions and classify information.\n",
    "ML models are trained with past data which they use to learn through statistical analysis, modelling and \n",
    "pattern matching.\n",
    "\n",
    "'''"
   ]
  },
  {
   "cell_type": "code",
   "execution_count": null,
   "metadata": {},
   "outputs": [],
   "source": [
    "#Q2\n",
    "'''\n",
    "Supervised Machine Learning is when the model gets labelled input data with the output.\n",
    "The machine uses this training data and from it learns how to label data and forms a model.\n",
    "When new data is entered it then provides an output based on the model developed from training data.\n",
    "\n",
    "'''"
   ]
  },
  {
   "cell_type": "code",
   "execution_count": null,
   "metadata": {},
   "outputs": [],
   "source": [
    "#Q3\n",
    "'''\n",
    "Underfitting is when the model is is unable to find a trend with the data or not learned enough from the data. \n",
    "This can happen when it stopped to early when it is training data or it is given too little data or the data does not\n",
    "have enough variables.\n",
    "Overfitting is when the model is trained on too much data and tries to cover all the data points when forming\n",
    "a trend. It might aslo occur when the data is too complex. It may include outliers aswell.\n",
    "\n",
    "'''"
   ]
  },
  {
   "cell_type": "code",
   "execution_count": null,
   "metadata": {},
   "outputs": [],
   "source": [
    "#Q4\n",
    "'''\n",
    "Data is split into two parts: training data and testing data. This is usually done on a 70/ 30 split\n",
    "with training data (70) used to train and form the model and testing data (30) used to test the model after it has been formed and \n",
    "check if it a good model.\n",
    "\n",
    "'''"
   ]
  },
  {
   "cell_type": "code",
   "execution_count": null,
   "metadata": {},
   "outputs": [],
   "source": [
    "#Q5\n",
    "'''\n",
    "SciKit is a library that is used in python for machine learning. It is used to build machine learning models such as\n",
    "classificationa and regression models and can be used alongside pandas and numpy.\n",
    "\n",
    "'''\n"
   ]
  },
  {
   "cell_type": "markdown",
   "metadata": {},
   "source": [
    "## 4. DATA ANALYSIS NARRATIVE (25 points)\n",
    "\n",
    "- this is purely theoretical task, NO CODING required\n",
    "- please use provided PDF file DATA_FINAL_ASSESSMENT_Q4.pdf with the actual task descritpion and graphs /plots\n",
    "- write your answers here in the Jyputer Notebook using a markdown cell. \n",
    "\n",
    "\n"
   ]
  },
  {
   "cell_type": "code",
   "execution_count": null,
   "metadata": {},
   "outputs": [],
   "source": [
    "#2\n",
    "'''\n",
    "\n",
    "The average customer age is 38\n",
    "The average income is 60k\n",
    "Half of customer make between 41k and 78 k\n",
    "Half of customer have a spending score between 34 and 73 with an average spending score of 50\n",
    "'''"
   ]
  },
  {
   "cell_type": "code",
   "execution_count": null,
   "metadata": {},
   "outputs": [],
   "source": [
    "#3\n",
    "'''\n",
    "There is a higher proportion of female customers however there is not a large margin between the two genders\n",
    "'''"
   ]
  },
  {
   "cell_type": "code",
   "execution_count": null,
   "metadata": {},
   "outputs": [],
   "source": [
    "#4\n",
    "'''\n",
    "The highhest number of peaks are in teh region of 30-40 which shows that there is a high frequncy of people \n",
    "in that age rnage. This is supported by the avergae age being 38. The highest peak is at 30 which shows that\n",
    "the largest age group is 30 year olds. After 40 the bars tend to get lower and lower.\n",
    "\n",
    "\n",
    "'''"
   ]
  },
  {
   "cell_type": "code",
   "execution_count": null,
   "metadata": {},
   "outputs": [],
   "source": [
    "#5\n",
    "'''\n",
    "For males, most customers are young and as the age increases there are less and less male cosnumers. \n",
    "There are more male cosnuemrs in the 20-30 than 30-40\n",
    "There is a peak ust before 70 whihc suggests that the msot male consumers are either below 40 or around 70. \n",
    "Thsi peak in itnerst before 70, occurs in both males and females and could occur as it is around the retirement age\n",
    "so people have less expenses, mroe savings and access to their pension pot. \n",
    "The distrubtuion for females is different to men. There are more female cosnuemrs in the 30-40 than 20-30. \n",
    "This could be due to differnt attitudes to savings for each gender.\n",
    "\n",
    "'''"
   ]
  },
  {
   "cell_type": "code",
   "execution_count": null,
   "metadata": {},
   "outputs": [],
   "source": [
    "#6 and 7\n",
    "'''\n",
    "The bar between 50-65 is the tallest suggest it is the income with the most peoel in it.Majoirty of people are making between 20k-90k. \n",
    "After 90k there is a steep decline in the bar chart showing that the amount of people earnign mroe than 90k \n",
    "is small.\n",
    "There are more females than men earning below 40k.\n",
    "'''"
   ]
  },
  {
   "cell_type": "code",
   "execution_count": null,
   "metadata": {},
   "outputs": [],
   "source": [
    "#8\n",
    "'''\n",
    "There is not a very clear trend.\n",
    "The people with the highest income are not the oldest but those between 30 and 50, shoing some outiers. \n",
    "The spread for males and females is similiar across all age groups. The annual income is similiar  across\n",
    "if the outliers are not included.\n",
    "'''"
   ]
  },
  {
   "cell_type": "code",
   "execution_count": null,
   "metadata": {},
   "outputs": [],
   "source": [
    "#9\n",
    "'''\n",
    "There is not a clear correlation between any variables, The highest correlation is -0.33 which shows \n",
    "a slight inverse relatonship between age and spednign score. This measn that as age goes up, the spending\n",
    "score decreases.\n",
    "The reason there is not a clear correlation could be as the trend changes for teh age group and this is the overall\n",
    "If they were sperated bya ge group and a correlation matrix was done, there would be better.\n",
    "'''"
   ]
  },
  {
   "cell_type": "code",
   "execution_count": null,
   "metadata": {},
   "outputs": [],
   "source": [
    "#10\n",
    "'''\n",
    "Below age 37, the spending score is the highest for both males and females.\n",
    "After 37 there is a shift and the spendign score goes down for both males and females.\n",
    "Then after the 47 theere is an increase in spednign score but bot to the same level as below 37.\n",
    "This shows thate the youngest group and the oldest group haev a higher spending score than those between 37-47. \n",
    "From graph 8, ther mid age group are earning  the same as the other groups, but they migth have more bills as \n",
    "they are more likely to have mroe expenses than the younger or those that have retired so might have less disposable\n",
    "income.\n",
    "'''"
   ]
  },
  {
   "cell_type": "code",
   "execution_count": null,
   "metadata": {},
   "outputs": [],
   "source": [
    "#13\n",
    "'''\n",
    "There is a slight inverse relatonship between age and spedning score for females. This measn that as age goes up,\n",
    "the spending score decreases.\n",
    "'''"
   ]
  },
  {
   "cell_type": "code",
   "execution_count": null,
   "metadata": {},
   "outputs": [],
   "source": [
    "#14\n",
    "'''\n",
    "There is cluster of data for those earning between 40-70k, they all ahve a spendign score between 40-60. \n",
    "Those between 20-40k and 70-100k either have a low spedning score or a hgih spending score, which can be seen from \n",
    "the cluster near 80-100 score and 0-40. The high spednign score could be the younger as from graph 10 we can see \n",
    "that the younger group has the highest spending scores.The shopping centre shoudl target these customers the most\n",
    "as they are most liekly to spend regardless of their income.\n",
    "The low spending score could be the older as they have a lower spedning score than the younger ones, so they should also be\n",
    "tarheted as theri score has a lot of potential to increase.\n",
    "It shoudl also target by age rather than income as younger have a higher score than older but those on less income\n",
    "dont have less score than those on a higher income.\n",
    "'''"
   ]
  }
 ],
 "metadata": {
  "kernelspec": {
   "display_name": "Python 3 (ipykernel)",
   "language": "python",
   "name": "python3"
  },
  "language_info": {
   "codemirror_mode": {
    "name": "ipython",
    "version": 3
   },
   "file_extension": ".py",
   "mimetype": "text/x-python",
   "name": "python",
   "nbconvert_exporter": "python",
   "pygments_lexer": "ipython3",
   "version": "3.10.2"
  }
 },
 "nbformat": 4,
 "nbformat_minor": 4
}
